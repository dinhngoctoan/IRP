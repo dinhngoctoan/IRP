{
 "cells": [
  {
   "cell_type": "code",
   "execution_count": 1,
   "id": "7c59c9bb-0c0a-4500-9b30-f85cfd435447",
   "metadata": {},
   "outputs": [
    {
     "name": "stdout",
     "output_type": "stream",
     "text": [
      "1\n",
      "Current memory usage is 0.006748MB; Peak was 0.048221MB\n"
     ]
    }
   ],
   "source": [
    "import tracemalloc\n",
    "import memory_profiler as mp\n",
    "# Doc du lieu tu file dau vao\n",
    "import numpy as np\n",
    "'''def read_input_irp(Testcase.txt.txt):'''\n",
    "tracemalloc.start()\n",
    "\n",
    "with open(\"../testcase/test.txt\", \"r\") as file_it:\n",
    "    lines = file_it.readline().strip().split()\n",
    "    nb_customers = int(lines[0])-1\n",
    "    time_periods = int(lines[1])\n",
    "    capacity = int(lines[2])\n",
    "    nb_vehicles = int(lines[3])\n",
    "    start_level = [None] * (nb_customers+1)\n",
    "    max_level = [None] * (nb_customers+1)\n",
    "    min_level = [None] * (nb_customers+1)\n",
    "    daily_consumption = [None] * (nb_customers+1)\n",
    "    inventory_cost = [None] * (nb_customers+1)\n",
    "    lines = file_it.readline().strip().split()\n",
    "    start_level_supplier = int(lines[1])\n",
    "    production_rate_supplier = int(lines[2])\n",
    "    holding_cost_supplier = float((lines[3]))\n",
    "    for i in range(nb_customers):\n",
    "        lines = file_it.readline().strip().split()\n",
    "        j = int(lines[0])\n",
    "        start_level[j] = int(lines[1])\n",
    "        max_level[j] = int(lines[2])\n",
    "        min_level[j] = int(lines[3])\n",
    "        daily_consumption[j] = int(lines[4])\n",
    "        inventory_cost[j] = float(lines[5])\n",
    "    distance_matrix = np.zeros((nb_customers+1, nb_customers+1))\n",
    "    for i in range(nb_customers+1):\n",
    "        lines = file_it.readline().strip().split()\n",
    "        for j in range(nb_customers+1):\n",
    "            distance_matrix[i][j] = float(lines[j])\n",
    "distance_customer = distance_matrix[1:,1:]\n",
    "sort_dis=[[0 for i in range(len(distance_matrix))] for j in range(len(distance_matrix))]\n",
    "for i in range(len(distance_matrix)):\n",
    "    sort_dis[i] = distance_matrix[i].copy()\n",
    "    sort_dis[i].sort()\n",
    "print(1)\n",
    "current, peak = tracemalloc.get_traced_memory()\n",
    "print(f\"Current memory usage is {current / 10**6}MB; Peak was {peak / 10**6}MB\")"
   ]
  },
  {
   "cell_type": "code",
   "execution_count": 2,
   "id": "e3262985-b139-4913-8b14-60c7c0354e38",
   "metadata": {},
   "outputs": [
    {
     "name": "stdout",
     "output_type": "stream",
     "text": [
      "Current memory usage is 38.337384MB; Peak was 38.452304MB\n"
     ]
    }
   ],
   "source": [
    "#Thuc hien phan cum cac diem trong du lieu\n",
    "from sklearn.cluster import AgglomerativeClustering\n",
    "\n",
    "clustering = AgglomerativeClustering(n_clusters=nb_vehicles, metric='precomputed',linkage='complete')\n",
    "clusters = clustering.fit_predict(distance_customer)\n",
    "\n",
    "indices_label = []\n",
    "sum = [0]*(nb_vehicles)\n",
    "for i in range(nb_vehicles):\n",
    "    list_label = np.where(clusters == i)[0]\n",
    "    list_label = [value + 1 for value in list_label]\n",
    "    indices_label.append(list_label)\n",
    "    sum[i]=0\n",
    "    for index in list_label:\n",
    "        sum[i]+=daily_consumption[index]\n",
    "current, peak = tracemalloc.get_traced_memory()\n",
    "print(f\"Current memory usage is {current / 10**6}MB; Peak was {peak / 10**6}MB\")"
   ]
  },
  {
   "cell_type": "code",
   "execution_count": 3,
   "id": "c9a1a5df-5c1a-453f-874f-946ca7e837ff",
   "metadata": {},
   "outputs": [],
   "source": [
    "#Ham di chuyen diem sang cum khac phu hop hon\n",
    "def Switch(Index):\n",
    "    global sum\n",
    "    i_index = 0\n",
    "    j_index = 0\n",
    "    a = 0\n",
    "    b = 0\n",
    "    while sum[Index] > capacity:\n",
    "        maxDis = 0\n",
    "        for i in indices_label[Index]:\n",
    "            for j in indices_label[Index]:\n",
    "                if distance_matrix[i][j] > maxDis:\n",
    "                    maxDis = distance_matrix[i][j]\n",
    "                    a=i\n",
    "                    b=j\n",
    "        Min = distance_matrix[a][1]\n",
    "        i_index = nb_vehicles+1\n",
    "        for i in range(1,len(distance_matrix)):\n",
    "            if i not in indices_label[Index]:\n",
    "                index_clus = clusters[i-1]\n",
    "                if Min < distance_matrix[a][i] and sum[index_clus] + daily_consumption[a] < capacity:\n",
    "                    Min = distance_matrix[a][i]\n",
    "                    i_index = i\n",
    "        Min = distance_matrix[b][1]\n",
    "        j_index = nb_vehicles+1\n",
    "        for i in range(1,len(distance_matrix)):\n",
    "            if i not in indices_label[Index]:\n",
    "                index_clus = clusters[i-1]\n",
    "                if Min < distance_matrix[b][i] and sum[index_clus] + daily_consumption[b] < capacity:\n",
    "                    Min = distance_matrix[b][i]\n",
    "                    j_index = i\n",
    "        if j_index == nb_vehicles+1:\n",
    "            indices_label[Index].remove(a)\n",
    "            sum[Index]  = sum[Index] - daily_consumption[a]\n",
    "            indices_label[clusters[i_index-1]].append(a)\n",
    "            sum[clusters[i_index-1]] += daily_consumption[a]\n",
    "        elif i_index == nb_vehicles+1:\n",
    "            indices_label[Index].remove(b)\n",
    "            sum[Index]  = sum[Index] - daily_consumption[b]\n",
    "            indices_label[clusters[j_index-1]].append(b)\n",
    "            sum[clusters[j_index-1]] += daily_consumption[b]\n",
    "        else:\n",
    "            if distance_matrix[i_index][a] < distance_matrix[j_index][b]:\n",
    "                indices_label[Index].remove(a)\n",
    "                sum[Index]  = sum[Index] - daily_consumption[a]\n",
    "                indices_label[clusters[i_index-1]].append(a)\n",
    "                sum[clusters[i_index-1]] += daily_consumption[a]\n",
    "            else:\n",
    "                indices_label[Index].remove(b)\n",
    "                sum[Index]  = sum[Index] - daily_consumption[b]\n",
    "                indices_label[clusters[j_index-1]].append(b)\n",
    "                sum[clusters[j_index-1]] += daily_consumption[b]"
   ]
  },
  {
   "cell_type": "code",
   "execution_count": 4,
   "id": "2088db33-e1f1-4b3f-bbba-342a2719551a",
   "metadata": {},
   "outputs": [
    {
     "name": "stdout",
     "output_type": "stream",
     "text": [
      "Current memory usage is 38.134854MB; Peak was 38.52433MB\n"
     ]
    }
   ],
   "source": [
    "#Kiem tra cac cum xem co cum nao co luong hang can van chuyen vuot qua capacity cua phuong tien thi tien hanh chuyen 1 vai vi tri trong cum sang cum khac\n",
    "for i in range(nb_vehicles):\n",
    "    if(sum[i]>capacity):\n",
    "        Switch(i)\n",
    "current, peak = tracemalloc.get_traced_memory()\n",
    "print(f\"Current memory usage is {current / 10**6}MB; Peak was {peak / 10**6}MB\")"
   ]
  },
  {
   "cell_type": "code",
   "execution_count": 5,
   "id": "ed0c5842-11f5-44df-9723-5e2151d30fe5",
   "metadata": {},
   "outputs": [],
   "source": [
    "#Tien hanh dinh tuyen duong di \n",
    "def Routing(cluster):\n",
    "    routing = []\n",
    "    for k in range(len(cluster)):\n",
    "        clone = cluster[k].copy()\n",
    "        a = [0]\n",
    "        m = 0\n",
    "        while clone:\n",
    "            i=clone[0]\n",
    "            m = distance_matrix[a[-1]][clone[0]]\n",
    "            for location in clone:\n",
    "                if distance_matrix[a[-1]][location] < m:\n",
    "                    m = distance_matrix[a[-1]][location]\n",
    "                    i = location      \n",
    "            clone.remove(i)\n",
    "            a.append(i)\n",
    "        a.append(0)\n",
    "        for i in range(1,len(a)-3):\n",
    "            if distance_matrix[a[i-1]][a[i]] + distance_matrix[a[i+2]][a[i+3]] > distance_matrix[a[i-1]][a[i+2]] + distance_matrix[a[i]][a[i+3]]:\n",
    "                tmp = a[i]\n",
    "                a[i] = a[i+2]\n",
    "                a[i+2]=tmp\n",
    "        routing.append(a)\n",
    "    \n",
    "    return routing\n"
   ]
  },
  {
   "cell_type": "code",
   "execution_count": 6,
   "id": "0fe820d4-a7be-4fc6-9011-f3319378a363",
   "metadata": {},
   "outputs": [
    {
     "name": "stdout",
     "output_type": "stream",
     "text": [
      "Current memory usage is 38.453195MB; Peak was 38.562232MB\n"
     ]
    }
   ],
   "source": [
    "#Luu tuyen duong di vao routing\n",
    "routing = Routing(indices_label)\n",
    "current, peak = tracemalloc.get_traced_memory()\n",
    "print(f\"Current memory usage is {current / 10**6}MB; Peak was {peak / 10**6}MB\")"
   ]
  },
  {
   "cell_type": "code",
   "execution_count": 7,
   "id": "01465152-6f1b-4150-94ff-1bb66c04ad02",
   "metadata": {},
   "outputs": [
    {
     "name": "stdout",
     "output_type": "stream",
     "text": [
      "Current memory usage is 38.318442MB; Peak was 38.562232MB\n"
     ]
    }
   ],
   "source": [
    "#sap xep cac dia diem theo thu tu tang dan cua chi phi ton kho\n",
    "inventory_cost[0] = 0\n",
    "sorted_cost = sorted(enumerate(inventory_cost), key=lambda x: x[1])\n",
    "current, peak = tracemalloc.get_traced_memory()\n",
    "print(f\"Current memory usage is {current / 10**6}MB; Peak was {peak / 10**6}MB\")"
   ]
  },
  {
   "cell_type": "code",
   "execution_count": 8,
   "id": "4144cd72-dc1c-47d8-96b5-ddfe756e819b",
   "metadata": {},
   "outputs": [],
   "source": [
    "#Ham them dia diem vao chuyen di\n",
    "def insertRout(rout, value,indexClus):\n",
    "    global routing\n",
    "    i = j = 0\n",
    "    check = 1\n",
    "    if len(rout)==0:\n",
    "        rout.append(value)\n",
    "    else:\n",
    "        while check:\n",
    "            if routing[indexClus][j] != value:\n",
    "                if rout[i] == routing[indexClus][j]:\n",
    "                    i+=1\n",
    "                    if i == len(rout):\n",
    "                        rout.append(value)\n",
    "                        break\n",
    "            else:\n",
    "                rout.insert(i,value)\n",
    "                break\n",
    "            j+=1\n",
    "    return rout"
   ]
  },
  {
   "cell_type": "code",
   "execution_count": 9,
   "id": "aa1a8a3e-5eaa-4585-a75a-485e4a01cff3",
   "metadata": {},
   "outputs": [],
   "source": [
    "#Ham tinh toan chi phi van chuyen\n",
    "def cost_cal(trip):\n",
    "    cost = 0\n",
    "    for i in range(len(trip)):\n",
    "        for j in range(len(trip[i])):\n",
    "            if j>0:\n",
    "                cost+=distance_matrix[trip[i][j-1]][trip[i][j]]\n",
    "            else:\n",
    "                cost+=distance_matrix[0][trip[i][j]]\n",
    "        if(trip[i]):\n",
    "            cost+=distance_matrix[0][trip[i][j]]\n",
    "    return cost        "
   ]
  },
  {
   "cell_type": "code",
   "execution_count": 10,
   "id": "30a0392a-a798-4b6a-848f-6c6488023276",
   "metadata": {},
   "outputs": [],
   "source": [
    "#Ham tim xem dia diem nay thuoc chuyen di cua phuong tien nao\n",
    "def findCluster(value):\n",
    "    global routing\n",
    "    for i in range(len(routing)):\n",
    "        if value in routing[i]:\n",
    "            return i"
   ]
  },
  {
   "cell_type": "code",
   "execution_count": 11,
   "id": "d5f9e3bc-daab-4bfe-93d4-9b43da630ed2",
   "metadata": {},
   "outputs": [
    {
     "name": "stdout",
     "output_type": "stream",
     "text": [
      "Current memory usage is 38.592493MB; Peak was 38.735671MB\n"
     ]
    }
   ],
   "source": [
    "#thuc hien tinh toan cac chi phi\n",
    "trans = [[0 for _ in range(nb_customers+1)] for _ in range(time_periods)]\n",
    "rout = [[[] for _ in range(nb_vehicles+1)] for _ in range(time_periods)]\n",
    "cap = [0 for _ in range(nb_vehicles)]\n",
    "transportation_cost=0\n",
    "inventory_cost_customer=0\n",
    "inventory_cost_depot=0\n",
    "TotalPro = start_level_supplier\n",
    "for time in range(time_periods):\n",
    "    TotalPro = TotalPro + production_rate_supplier\n",
    "    for nb in range(nb_vehicles):\n",
    "        cap[nb] = capacity\n",
    "        for lct in routing[nb][1:len(routing[nb])-1]:\n",
    "            if(start_level[lct] - daily_consumption[lct]>=min_level[lct]):\n",
    "                start_level[lct] = start_level[lct] - daily_consumption[lct]\n",
    "                continue\n",
    "            else:\n",
    "                trans[time][lct] = daily_consumption[lct] + min_level[lct] - start_level[lct]\n",
    "                if TotalPro > trans[time][lct]:\n",
    "                    TotalPro = TotalPro - trans[time][lct]\n",
    "                else:\n",
    "                    trans[time][lct] = TotalPro\n",
    "                    TotalPro = 0\n",
    "                start_level[lct] = start_level[lct] + trans[time][lct] - daily_consumption[lct]\n",
    "                cap[nb] -= trans[time][lct]\n",
    "                rout[time][nb].append(lct)\n",
    "    for location in sorted_cost[1:]:\n",
    "        if location[1]<holding_cost_supplier:\n",
    "            x = findCluster(location[0])\n",
    "            if cap[x]>0 and TotalPro>0 and max_level[lct]-start_level[lct]>0:\n",
    "                count = min(cap[x],min(TotalPro,max_level[location[0]]-start_level[location[0]]))\n",
    "                cap[x]-=count\n",
    "                TotalPro-=count\n",
    "                start_level[location[0]]+=count\n",
    "                trans[time][location[0]]+=count\n",
    "                rout[time][x] = insertRout(rout[time][x], location[0],x)\n",
    "    transportation_cost += cost_cal(rout[time])\n",
    "    inventory_cost_depot += TotalPro * holding_cost_supplier\n",
    "    for i in range(1,nb_customers+1):\n",
    "        inventory_cost_customer += start_level[i] * inventory_cost[i]\n",
    "current, peak = tracemalloc.get_traced_memory()\n",
    "print(f\"Current memory usage is {current / 10**6}MB; Peak was {peak / 10**6}MB\")"
   ]
  },
  {
   "cell_type": "code",
   "execution_count": 12,
   "id": "9e15704b-f072-41cc-a2c4-bd6ad1d3a3cd",
   "metadata": {},
   "outputs": [
    {
     "data": {
      "text/plain": [
       "\"for time in range(time_periods):\\n    print('Week '+str(time+1))\\n    for i in range(nb_vehicles):\\n        print('Rout '+str(i+1)+': ',end=' ')\\n        print('0 -',end= ' ')\\n        for lct in rout[time][i]:\\n            print(str(lct) + ' ( ' + str(trans[time][lct]) + ' ) -', end = ' ')\\n        print(str(0)+'\\n')\\n\""
      ]
     },
     "execution_count": 12,
     "metadata": {},
     "output_type": "execute_result"
    }
   ],
   "source": [
    "for time in range(time_periods):\n",
    "    print('Month '+str(time+1))\n",
    "    for i in range(nb_vehicles):\n",
    "        print('Rout '+str(i+1)+': ',end=' ')\n",
    "        print('0 -',end= ' ')\n",
    "        for lct in rout[time][i]:\n",
    "            print(str(lct) + ' ( ' + str(trans[time][lct]) + ' ) -', end = ' ')\n",
    "        print(str(0)+'\\n')"
   ]
  },
  {
   "cell_type": "code",
   "execution_count": 14,
   "id": "11ab05dd-df12-4f39-8476-7e73594e6318",
   "metadata": {},
   "outputs": [
    {
     "name": "stdout",
     "output_type": "stream",
     "text": [
      "1905.0\n",
      "51.21\n",
      "6.8\n",
      "1963.01\n",
      "Current memory usage is 38.592493MB; Peak was 38.735671MB\n"
     ]
    }
   ],
   "source": [
    "print(round(transportation_cost,2))\n",
    "print(round(inventory_cost_depot,2))\n",
    "print(round(inventory_cost_customer,2))\n",
    "print(round(transportation_cost+inventory_cost_depot+inventory_cost_customer,2))\n",
    "print(f\"Current memory usage is {current / 10**6}MB; Peak was {peak / 10**6}MB\")"
   ]
  },
  {
   "cell_type": "code",
   "execution_count": null,
   "id": "704d1bce-677e-4784-8ea5-736a42b164eb",
   "metadata": {},
   "outputs": [],
   "source": []
  }
 ],
 "metadata": {
  "kernelspec": {
   "display_name": "Python 3 (ipykernel)",
   "language": "python",
   "name": "python3"
  },
  "language_info": {
   "codemirror_mode": {
    "name": "ipython",
    "version": 3
   },
   "file_extension": ".py",
   "mimetype": "text/x-python",
   "name": "python",
   "nbconvert_exporter": "python",
   "pygments_lexer": "ipython3",
   "version": "3.11.7"
  }
 },
 "nbformat": 4,
 "nbformat_minor": 5
}
